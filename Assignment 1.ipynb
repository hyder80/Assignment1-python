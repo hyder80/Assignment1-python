{
 "cells": [
  {
   "cell_type": "code",
   "execution_count": 1,
   "id": "e03cad35-c221-4236-a84f-586acabdf380",
   "metadata": {},
   "outputs": [
    {
     "name": "stdout",
     "output_type": "stream",
     "text": [
      "Name: Ali Hyder\n",
      "Father's Name: Muhammad Rafique\n",
      "Date of Birth: 20-May-1997\n"
     ]
    }
   ],
   "source": [
    "# Question 1: Print Your Name with your Father name and Date of birth using suitable escape sequence character\n",
    "print(\"Name: Ali Hyder\\nFather's Name: Muhammad Rafique\\nDate of Birth: 20-May-1997\")"
   ]
  },
  {
   "cell_type": "code",
   "execution_count": 2,
   "id": "2e4bf58a-a091-4731-a1d2-a1d5a20fb10a",
   "metadata": {},
   "outputs": [
    {
     "name": "stdout",
     "output_type": "stream",
     "text": [
      "My name is Ali Hyder\n",
      "I have completed BS IT\n",
      "I am working at Auriga Solution as an IT Officer\n"
     ]
    }
   ],
   "source": [
    "# Question 2: Write your small bio using variables and print it using print function\n",
    "name = \"Ali Hyder\"\n",
    "education = \"BS IT\"\n",
    "company = \"Auriga Solution\"\n",
    "job_title = \"IT Officer\"\n",
    " \n",
    "print(\"My name is\", name)\n",
    "print(\"I have completed\", education)\n",
    "print(\"I am working at\", company, \"as an\", job_title)"
   ]
  },
  {
   "cell_type": "code",
   "execution_count": 3,
   "id": "f741f8f9-625c-41d9-9ebf-d1174914b858",
   "metadata": {},
   "outputs": [
    {
     "name": "stdout",
     "output_type": "stream",
     "text": [
      "Addition: 13\n",
      "Subtraction: 7\n",
      "Multiplication: 30\n",
      "Division: 3.3333333333333335\n",
      "Floor Division: 3\n",
      "Modulus: 1\n",
      "Exponent: 1000\n",
      "Equal: False\n",
      "Not Equal: True\n",
      "Greater: True\n",
      "Less: False\n",
      "Greater or Equal: True\n",
      "Less or Equal: False\n",
      "Logical AND: False\n",
      "Logical OR: True\n",
      "Logical NOT: False\n"
     ]
    }
   ],
   "source": [
    "# Question 3: Write a program in which use all the operators we can use in Python\n",
    "a, b = 10, 3\n",
    "print(\"Addition:\", a + b)\n",
    "print(\"Subtraction:\", a - b)\n",
    "print(\"Multiplication:\", a * b)\n",
    "print(\"Division:\", a / b)\n",
    "print(\"Floor Division:\", a // b)\n",
    "print(\"Modulus:\", a % b)\n",
    "print(\"Exponent:\", a ** b)\n",
    " \n",
    "print(\"Equal:\", a == b)\n",
    "print(\"Not Equal:\", a != b)\n",
    "print(\"Greater:\", a > b)\n",
    "print(\"Less:\", a < b)\n",
    "print(\"Greater or Equal:\", a >= b)\n",
    "print(\"Less or Equal:\", a <= b)\n",
    " \n",
    "p, q = True, False\n",
    "print(\"Logical AND:\", p and q)\n",
    "print(\"Logical OR:\", p or q)\n",
    "print(\"Logical NOT:\", not p)"
   ]
  },
  {
   "cell_type": "code",
   "execution_count": 4,
   "id": "6b528f2e-e9f7-4429-bfd9-4cb41d28caa9",
   "metadata": {},
   "outputs": [
    {
     "name": "stdout",
     "output_type": "stream",
     "text": [
      "Percentage: 85.0 %\n"
     ]
    }
   ],
   "source": [
    "# Question 4: Mention Marks of English, Islamiat and Maths then calculate Percentage\n",
    "english, islamiat, maths = 85, 78, 92\n",
    "total_marks = 300\n",
    "obtained = english + islamiat + maths\n",
    "percentage = (obtained / total_marks) * 100\n",
    "print(\"Percentage:\", percentage, \"%\")"
   ]
  },
  {
   "cell_type": "markdown",
   "id": "18455b75-4b0f-4f4f-a6e0-f759ff0c7adc",
   "metadata": {},
   "source": [
    "##Part-2: Conditional Statements"
   ]
  },
  {
   "cell_type": "code",
   "execution_count": 7,
   "id": "95325d2d-9e2c-472b-9617-1da6d0f2683b",
   "metadata": {},
   "outputs": [
    {
     "name": "stdout",
     "output_type": "stream",
     "text": [
      "Net Bonus: 2500.0\n"
     ]
    }
   ],
   "source": [
    "# Question 5: Bonus 5% if service > 5 years\n",
    "salary = 50000\n",
    "years = 6\n",
    " \n",
    "if years > 5:\n",
    "    bonus = salary * 0.05\n",
    "    print(\"Net Bonus:\", bonus)\n",
    "else:\n",
    "    print(\"No Bonus\")"
   ]
  },
  {
   "cell_type": "code",
   "execution_count": 8,
   "id": "c3299c16-fbd3-4efc-ac4a-6877e13368d4",
   "metadata": {},
   "outputs": [
    {
     "name": "stdout",
     "output_type": "stream",
     "text": [
      "Eligible for voting\n"
     ]
    }
   ],
   "source": [
    "# Question 6: Check voting eligibility (age > 17)\n",
    "age = 18\n",
    "if age > 17:\n",
    "    print(\"Eligible for voting\")\n",
    "else:\n",
    "    print(\"Not eligible\")"
   ]
  },
  {
   "cell_type": "code",
   "execution_count": 9,
   "id": "7286a858-3ace-4f52-961c-a56c5d19350e",
   "metadata": {},
   "outputs": [
    {
     "name": "stdout",
     "output_type": "stream",
     "text": [
      "Odd\n"
     ]
    }
   ],
   "source": [
    "# Question 7: Check whether a number is even or odd\n",
    "num = 7\n",
    "if num % 2 == 0:\n",
    "    print(\"Even\")\n",
    "else:\n",
    "    print(\"Odd\")"
   ]
  },
  {
   "cell_type": "code",
   "execution_count": 10,
   "id": "dced7476-a5dd-4692-a16b-87bf3bde17cc",
   "metadata": {},
   "outputs": [
    {
     "name": "stdout",
     "output_type": "stream",
     "text": [
      "Divisible by 7\n"
     ]
    }
   ],
   "source": [
    "# Question 8: Check whether number is divisible by 7\n",
    "num = 49\n",
    "if num % 7 == 0:\n",
    "    print(\"Divisible by 7\")\n",
    "else:\n",
    "    print(\"Not Divisible\")"
   ]
  },
  {
   "cell_type": "code",
   "execution_count": 11,
   "id": "ea1936ed-44e0-4d69-b5cb-71117cba7265",
   "metadata": {},
   "outputs": [
    {
     "name": "stdout",
     "output_type": "stream",
     "text": [
      "Hello\n"
     ]
    }
   ],
   "source": [
    "# Question 9: Print Hello if multiple of 5 else Bye\n",
    "num = 20\n",
    "if num % 5 == 0:\n",
    "    print(\"Hello\")\n",
    "else:\n",
    "    print(\"Bye\")"
   ]
  },
  {
   "cell_type": "code",
   "execution_count": 12,
   "id": "989a21c3-75b8-4d4c-acba-076ab7ff7b26",
   "metadata": {},
   "outputs": [
    {
     "name": "stdout",
     "output_type": "stream",
     "text": [
      "Total Bill: Rs 1500\n"
     ]
    }
   ],
   "source": [
    "# Question 10: Calculate Electricity Bill\n",
    "units = 350\n",
    " \n",
    "if units <= 100:\n",
    "    bill = 0\n",
    "elif units <= 300:\n",
    "    bill = (units - 100) * 5\n",
    "else:\n",
    "    bill = (200 * 5) + (units - 300) * 10\n",
    " \n",
    "print(\"Total Bill: Rs\", bill)"
   ]
  },
  {
   "cell_type": "code",
   "execution_count": 13,
   "id": "4877481e-faa0-47d3-93b6-d5be9ae37629",
   "metadata": {},
   "outputs": [
    {
     "name": "stdout",
     "output_type": "stream",
     "text": [
      "Last Digit: 4\n"
     ]
    }
   ],
   "source": [
    "# Question 11: Display last digit of a number\n",
    "num = 1234\n",
    "print(\"Last Digit:\", num % 10)"
   ]
  },
  {
   "cell_type": "code",
   "execution_count": 14,
   "id": "e5643f58-ac1f-4ce5-b503-f289b1eb1f4f",
   "metadata": {},
   "outputs": [
    {
     "name": "stdout",
     "output_type": "stream",
     "text": [
      "Square\n"
     ]
    }
   ],
   "source": [
    "# Question 12: Check if rectangle or square\n",
    "length, breadth = 10, 10\n",
    "if length == breadth:\n",
    "    print(\"Square\")\n",
    "else:\n",
    "    print(\"Rectangle\")"
   ]
  },
  {
   "cell_type": "code",
   "execution_count": 15,
   "id": "984dd53d-5f58-4c06-a26a-7ca7c7ff2439",
   "metadata": {},
   "outputs": [
    {
     "name": "stdout",
     "output_type": "stream",
     "text": [
      "Greatest: 25\n"
     ]
    }
   ],
   "source": [
    "# Question 13: Take two int values and print greatest\n",
    "a, b = 15, 25\n",
    "if a > b:\n",
    "    print(\"Greatest:\", a)\n",
    "else:\n",
    "    print(\"Greatest:\", b)"
   ]
  },
  {
   "cell_type": "code",
   "execution_count": 16,
   "id": "b92ca175-fd90-4660-b144-abf1b91971bb",
   "metadata": {},
   "outputs": [
    {
     "name": "stdout",
     "output_type": "stream",
     "text": [
      "Total Cost: 1080.0\n"
     ]
    }
   ],
   "source": [
    "# Question 14: Shop discount if cost > 1000\n",
    "quantity = 12\n",
    "cost = quantity * 100\n",
    " \n",
    "if cost > 1000:\n",
    "    cost = cost - (0.1 * cost)\n",
    " \n",
    "print(\"Total Cost:\", cost)"
   ]
  },
  {
   "cell_type": "code",
   "execution_count": 17,
   "id": "bfa550b0-40bf-4acc-ada3-0cc41fdfda23",
   "metadata": {},
   "outputs": [
    {
     "name": "stdout",
     "output_type": "stream",
     "text": [
      "Grade: B\n"
     ]
    }
   ],
   "source": [
    "# Question 15: Grading System\n",
    "marks = 72\n",
    "if marks < 25:\n",
    "    grade = 'F'\n",
    "elif marks < 45:\n",
    "    grade = 'E'\n",
    "elif marks < 50:\n",
    "    grade = 'D'\n",
    "elif marks < 60:\n",
    "    grade = 'C'\n",
    "elif marks < 80:\n",
    "    grade = 'B'\n",
    "else:\n",
    "    grade = 'A'\n",
    " \n",
    "print(\"Grade:\", grade)"
   ]
  },
  {
   "cell_type": "code",
   "execution_count": 18,
   "id": "b1c9f087-02a2-43f7-b810-0e82d490ab36",
   "metadata": {},
   "outputs": [
    {
     "name": "stdout",
     "output_type": "stream",
     "text": [
      "Oldest: 40\n",
      "Youngest: 25\n"
     ]
    }
   ],
   "source": [
    "# Question 16: Oldest and Youngest among 3 people\n",
    "a, b, c = 25, 40, 30\n",
    "print(\"Oldest:\", max(a, b, c))\n",
    "print(\"Youngest:\", min(a, b, c))"
   ]
  },
  {
   "cell_type": "code",
   "execution_count": 19,
   "id": "3bd2dd81-784f-477e-9db2-49da2fce1b08",
   "metadata": {},
   "outputs": [
    {
     "name": "stdout",
     "output_type": "stream",
     "text": [
      "Attendance: 80.0 %\n",
      "Allowed in Exam\n"
     ]
    }
   ],
   "source": [
    "# Question 17: Attendance percentage check\n",
    "classes_held = 100\n",
    "classes_attended = 80\n",
    "percentage = (classes_attended / classes_held) * 100\n",
    " \n",
    "print(\"Attendance:\", percentage, \"%\")\n",
    "if percentage >= 75:\n",
    "    print(\"Allowed in Exam\")\n",
    "else:\n",
    "    print(\"Not Allowed\")"
   ]
  },
  {
   "cell_type": "code",
   "execution_count": 20,
   "id": "3a1c3898-c7f3-4eb7-ba06-6fadcbd7986c",
   "metadata": {},
   "outputs": [
    {
     "name": "stdout",
     "output_type": "stream",
     "text": [
      "Attendance: 60.0 %\n",
      "Allowed in Exam\n"
     ]
    }
   ],
   "source": [
    "# Question 18: Attendance check with medical cause\n",
    "classes_held = 100\n",
    "classes_attended = 60\n",
    "medical = 'Y'\n",
    " \n",
    "percentage = (classes_attended / classes_held) * 100\n",
    "print(\"Attendance:\", percentage, \"%\")\n",
    " \n",
    "if percentage >= 75 or medical == 'Y':\n",
    "    print(\"Allowed in Exam\")\n",
    "else:\n",
    "    print(\"Not Allowed\")"
   ]
  },
  {
   "cell_type": "code",
   "execution_count": 21,
   "id": "98dbb2ff-2d5e-4b77-8690-1aa855cfc6d8",
   "metadata": {},
   "outputs": [
    {
     "name": "stdout",
     "output_type": "stream",
     "text": [
      "Leap Year\n"
     ]
    }
   ],
   "source": [
    "# Question 19: Check Leap Year\n",
    "year = 2000\n",
    "if (year % 4 == 0 and year % 100 != 0) or (year % 400 == 0):\n",
    "    print(\"Leap Year\")\n",
    "else:\n",
    "    print(\"Not a Leap Year\")"
   ]
  },
  {
   "cell_type": "code",
   "execution_count": 22,
   "id": "2625cba1-3184-4aa5-afc9-4e8568285cd8",
   "metadata": {},
   "outputs": [
    {
     "name": "stdout",
     "output_type": "stream",
     "text": [
      "Anywhere\n"
     ]
    }
   ],
   "source": [
    "# Question 20: Place of Service (age, gender, marital status)\n",
    "age = 35\n",
    "gender = 'M'\n",
    "marital_status = 'Y'\n",
    " \n",
    "if gender == 'F':\n",
    "    print(\"Urban Areas Only\")\n",
    "elif gender == 'M' and 20 <= age < 40:\n",
    "    print(\"Anywhere\")\n",
    "elif gender == 'M' and 40 <= age <= 60:\n",
    "    print(\"Urban Areas Only\")\n",
    "else:\n",
    "    print(\"ERROR\")"
   ]
  },
  {
   "cell_type": "code",
   "execution_count": null,
   "id": "3f8777ad-f073-4676-b815-c7bf39682e41",
   "metadata": {},
   "outputs": [],
   "source": []
  }
 ],
 "metadata": {
  "kernelspec": {
   "display_name": "Python [conda env:base] *",
   "language": "python",
   "name": "conda-base-py"
  },
  "language_info": {
   "codemirror_mode": {
    "name": "ipython",
    "version": 3
   },
   "file_extension": ".py",
   "mimetype": "text/x-python",
   "name": "python",
   "nbconvert_exporter": "python",
   "pygments_lexer": "ipython3",
   "version": "3.13.5"
  }
 },
 "nbformat": 4,
 "nbformat_minor": 5
}
